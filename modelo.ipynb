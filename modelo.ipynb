{
 "cells": [
  {
   "cell_type": "code",
   "execution_count": 1,
   "id": "5c3319fa",
   "metadata": {},
   "outputs": [],
   "source": [
    "import os\n",
    "import pandas as pd\n",
    "import numpy as np\n",
    "import joblib\n",
    "from tensorflow import keras\n",
    "from tensorflow.keras import layers\n",
    "import matplotlib.pyplot as plt\n",
    "import seaborn as sns\n",
    "from sklearn.datasets import load_iris\n",
    "from sklearn.model_selection import train_test_split, StratifiedKFold\n",
    "from sklearn.tree import DecisionTreeClassifier\n",
    "from sklearn.metrics import accuracy_score, classification_report, ConfusionMatrixDisplay\n",
    "from sklearn.feature_selection import SelectKBest, f_classif\n",
    "from sklearn.model_selection import GridSearchCV\n",
    "from sklearn.pipeline import Pipeline\n",
    "from sklearn.preprocessing import StandardScaler\n",
    "from sklearn.model_selection import GridSearchCV\n",
    "from sklearn.linear_model import LogisticRegression\n",
    "from sklearn.metrics import roc_auc_score, classification_report, confusion_matrix"
   ]
  },
  {
   "cell_type": "markdown",
   "id": "fc72536f",
   "metadata": {},
   "source": [
    "# Lectura y preprocesamiento"
   ]
  },
  {
   "cell_type": "code",
   "execution_count": 11,
   "id": "54736c91",
   "metadata": {},
   "outputs": [
    {
     "name": "stderr",
     "output_type": "stream",
     "text": [
      "C:\\Users\\User\\AppData\\Local\\Temp\\ipykernel_17916\\3215090333.py:2: DtypeWarning: Columns (19,55) have mixed types. Specify dtype option on import or set low_memory=False.\n",
      "  df_og = pd.read_csv('loan/loan.csv')\n"
     ]
    }
   ],
   "source": [
    "# Carga el dataset\n",
    "df_og = pd.read_csv('loan/loan.csv')\n",
    "\n",
    " # Mapea el target\n",
    "status_map = {\n",
    "     \"Fully Paid\": 0,\n",
    "     \"Charged Off\": 1,\n",
    "     \"Late (31-120 days)\": 1,\n",
    "     \"Default\": 1,\n",
    "     \"Does not meet the credit policy. Status:Fully Paid\": 0,\n",
    "     \"Does not meet the credit policy. Status:Charged Off\": 1\n",
    " }\n",
    "df_og['target'] = df_og['loan_status'].map(status_map)"
   ]
  },
  {
   "cell_type": "code",
   "execution_count": 13,
   "id": "5bafc027",
   "metadata": {},
   "outputs": [],
   "source": [
    "import pandas as pd\n",
    "  # o como sea que obtengas tu DataFrame\n",
    "df = df_og[df_og['target'].notna()].copy()"
   ]
  },
  {
   "cell_type": "code",
   "execution_count": 154,
   "id": "284dea2c",
   "metadata": {},
   "outputs": [
    {
     "data": {
      "text/html": [
       "<div>\n",
       "<style scoped>\n",
       "    .dataframe tbody tr th:only-of-type {\n",
       "        vertical-align: middle;\n",
       "    }\n",
       "\n",
       "    .dataframe tbody tr th {\n",
       "        vertical-align: top;\n",
       "    }\n",
       "\n",
       "    .dataframe thead th {\n",
       "        text-align: right;\n",
       "    }\n",
       "</style>\n",
       "<table border=\"1\" class=\"dataframe\">\n",
       "  <thead>\n",
       "    <tr style=\"text-align: right;\">\n",
       "      <th></th>\n",
       "      <th>id</th>\n",
       "      <th>member_id</th>\n",
       "      <th>loan_amnt</th>\n",
       "      <th>funded_amnt</th>\n",
       "      <th>funded_amnt_inv</th>\n",
       "      <th>term</th>\n",
       "      <th>int_rate</th>\n",
       "      <th>installment</th>\n",
       "      <th>grade</th>\n",
       "      <th>sub_grade</th>\n",
       "      <th>...</th>\n",
       "      <th>il_util</th>\n",
       "      <th>open_rv_12m</th>\n",
       "      <th>open_rv_24m</th>\n",
       "      <th>max_bal_bc</th>\n",
       "      <th>all_util</th>\n",
       "      <th>total_rev_hi_lim</th>\n",
       "      <th>inq_fi</th>\n",
       "      <th>total_cu_tl</th>\n",
       "      <th>inq_last_12m</th>\n",
       "      <th>target</th>\n",
       "    </tr>\n",
       "  </thead>\n",
       "  <tbody>\n",
       "    <tr>\n",
       "      <th>0</th>\n",
       "      <td>1077501</td>\n",
       "      <td>1296599</td>\n",
       "      <td>5000.0</td>\n",
       "      <td>5000.0</td>\n",
       "      <td>4975.0</td>\n",
       "      <td>36 months</td>\n",
       "      <td>10.65</td>\n",
       "      <td>162.87</td>\n",
       "      <td>B</td>\n",
       "      <td>B2</td>\n",
       "      <td>...</td>\n",
       "      <td>NaN</td>\n",
       "      <td>NaN</td>\n",
       "      <td>NaN</td>\n",
       "      <td>NaN</td>\n",
       "      <td>NaN</td>\n",
       "      <td>NaN</td>\n",
       "      <td>NaN</td>\n",
       "      <td>NaN</td>\n",
       "      <td>NaN</td>\n",
       "      <td>0.0</td>\n",
       "    </tr>\n",
       "    <tr>\n",
       "      <th>1</th>\n",
       "      <td>1077430</td>\n",
       "      <td>1314167</td>\n",
       "      <td>2500.0</td>\n",
       "      <td>2500.0</td>\n",
       "      <td>2500.0</td>\n",
       "      <td>60 months</td>\n",
       "      <td>15.27</td>\n",
       "      <td>59.83</td>\n",
       "      <td>C</td>\n",
       "      <td>C4</td>\n",
       "      <td>...</td>\n",
       "      <td>NaN</td>\n",
       "      <td>NaN</td>\n",
       "      <td>NaN</td>\n",
       "      <td>NaN</td>\n",
       "      <td>NaN</td>\n",
       "      <td>NaN</td>\n",
       "      <td>NaN</td>\n",
       "      <td>NaN</td>\n",
       "      <td>NaN</td>\n",
       "      <td>1.0</td>\n",
       "    </tr>\n",
       "    <tr>\n",
       "      <th>2</th>\n",
       "      <td>1077175</td>\n",
       "      <td>1313524</td>\n",
       "      <td>2400.0</td>\n",
       "      <td>2400.0</td>\n",
       "      <td>2400.0</td>\n",
       "      <td>36 months</td>\n",
       "      <td>15.96</td>\n",
       "      <td>84.33</td>\n",
       "      <td>C</td>\n",
       "      <td>C5</td>\n",
       "      <td>...</td>\n",
       "      <td>NaN</td>\n",
       "      <td>NaN</td>\n",
       "      <td>NaN</td>\n",
       "      <td>NaN</td>\n",
       "      <td>NaN</td>\n",
       "      <td>NaN</td>\n",
       "      <td>NaN</td>\n",
       "      <td>NaN</td>\n",
       "      <td>NaN</td>\n",
       "      <td>0.0</td>\n",
       "    </tr>\n",
       "    <tr>\n",
       "      <th>3</th>\n",
       "      <td>1076863</td>\n",
       "      <td>1277178</td>\n",
       "      <td>10000.0</td>\n",
       "      <td>10000.0</td>\n",
       "      <td>10000.0</td>\n",
       "      <td>36 months</td>\n",
       "      <td>13.49</td>\n",
       "      <td>339.31</td>\n",
       "      <td>C</td>\n",
       "      <td>C1</td>\n",
       "      <td>...</td>\n",
       "      <td>NaN</td>\n",
       "      <td>NaN</td>\n",
       "      <td>NaN</td>\n",
       "      <td>NaN</td>\n",
       "      <td>NaN</td>\n",
       "      <td>NaN</td>\n",
       "      <td>NaN</td>\n",
       "      <td>NaN</td>\n",
       "      <td>NaN</td>\n",
       "      <td>0.0</td>\n",
       "    </tr>\n",
       "    <tr>\n",
       "      <th>5</th>\n",
       "      <td>1075269</td>\n",
       "      <td>1311441</td>\n",
       "      <td>5000.0</td>\n",
       "      <td>5000.0</td>\n",
       "      <td>5000.0</td>\n",
       "      <td>36 months</td>\n",
       "      <td>7.90</td>\n",
       "      <td>156.46</td>\n",
       "      <td>A</td>\n",
       "      <td>A4</td>\n",
       "      <td>...</td>\n",
       "      <td>NaN</td>\n",
       "      <td>NaN</td>\n",
       "      <td>NaN</td>\n",
       "      <td>NaN</td>\n",
       "      <td>NaN</td>\n",
       "      <td>NaN</td>\n",
       "      <td>NaN</td>\n",
       "      <td>NaN</td>\n",
       "      <td>NaN</td>\n",
       "      <td>0.0</td>\n",
       "    </tr>\n",
       "  </tbody>\n",
       "</table>\n",
       "<p>5 rows × 75 columns</p>\n",
       "</div>"
      ],
      "text/plain": [
       "        id  member_id  loan_amnt  funded_amnt  funded_amnt_inv        term  \\\n",
       "0  1077501    1296599     5000.0       5000.0           4975.0   36 months   \n",
       "1  1077430    1314167     2500.0       2500.0           2500.0   60 months   \n",
       "2  1077175    1313524     2400.0       2400.0           2400.0   36 months   \n",
       "3  1076863    1277178    10000.0      10000.0          10000.0   36 months   \n",
       "5  1075269    1311441     5000.0       5000.0           5000.0   36 months   \n",
       "\n",
       "   int_rate  installment grade sub_grade  ... il_util open_rv_12m open_rv_24m  \\\n",
       "0     10.65       162.87     B        B2  ...     NaN         NaN         NaN   \n",
       "1     15.27        59.83     C        C4  ...     NaN         NaN         NaN   \n",
       "2     15.96        84.33     C        C5  ...     NaN         NaN         NaN   \n",
       "3     13.49       339.31     C        C1  ...     NaN         NaN         NaN   \n",
       "5      7.90       156.46     A        A4  ...     NaN         NaN         NaN   \n",
       "\n",
       "   max_bal_bc all_util total_rev_hi_lim inq_fi total_cu_tl inq_last_12m target  \n",
       "0         NaN      NaN              NaN    NaN         NaN          NaN    0.0  \n",
       "1         NaN      NaN              NaN    NaN         NaN          NaN    1.0  \n",
       "2         NaN      NaN              NaN    NaN         NaN          NaN    0.0  \n",
       "3         NaN      NaN              NaN    NaN         NaN          NaN    0.0  \n",
       "5         NaN      NaN              NaN    NaN         NaN          NaN    0.0  \n",
       "\n",
       "[5 rows x 75 columns]"
      ]
     },
     "execution_count": 154,
     "metadata": {},
     "output_type": "execute_result"
    }
   ],
   "source": [
    "df.head()"
   ]
  },
  {
   "cell_type": "markdown",
   "id": "4fb0dfaf",
   "metadata": {},
   "source": [
    "## Explora el balance de clases"
   ]
  },
  {
   "cell_type": "code",
   "execution_count": 14,
   "id": "02bfdfa0",
   "metadata": {},
   "outputs": [
    {
     "name": "stdout",
     "output_type": "stream",
     "text": [
      "target\n",
      "0.0    209711\n",
      "1.0     58819\n",
      "Name: count, dtype: int64\n",
      "target\n",
      "0.0    0.780959\n",
      "1.0    0.219041\n",
      "Name: proportion, dtype: float64\n"
     ]
    }
   ],
   "source": [
    "print(df['target'].value_counts())\n",
    "print(df['target'].value_counts(normalize=True))"
   ]
  },
  {
   "cell_type": "markdown",
   "id": "410afc9a",
   "metadata": {},
   "source": [
    "## Preprocesamiento"
   ]
  },
  {
   "cell_type": "code",
   "execution_count": 15,
   "id": "c3f1f4e0",
   "metadata": {},
   "outputs": [],
   "source": [
    "df_varibales_categoricas = df.select_dtypes(include=['object']).astype(\"category\")"
   ]
  },
  {
   "cell_type": "code",
   "execution_count": 16,
   "id": "414191cf",
   "metadata": {},
   "outputs": [
    {
     "name": "stdout",
     "output_type": "stream",
     "text": [
      "emp_title                     14958\n",
      "emp_length                    10721\n",
      "desc                         176559\n",
      "title                            16\n",
      "earliest_cr_line                 29\n",
      "last_pymnt_d                    668\n",
      "next_pymnt_d                 252971\n",
      "last_credit_pull_d               24\n",
      "verification_status_joint    268527\n",
      "dtype: int64\n"
     ]
    }
   ],
   "source": [
    "null_counts = df_varibales_categoricas.isna().sum()\n",
    "print(null_counts[null_counts > 15])"
   ]
  },
  {
   "cell_type": "code",
   "execution_count": 17,
   "id": "b257568d",
   "metadata": {},
   "outputs": [
    {
     "data": {
      "text/plain": [
       "0         Jan-1985\n",
       "1         Apr-1999\n",
       "2         Nov-2001\n",
       "3         Feb-1996\n",
       "5         Nov-2004\n",
       "            ...   \n",
       "887351    Aug-1990\n",
       "887364    Nov-1975\n",
       "887366    Feb-2011\n",
       "887369    Sep-2002\n",
       "887371    Jun-2002\n",
       "Name: earliest_cr_line, Length: 268530, dtype: object"
      ]
     },
     "execution_count": 17,
     "metadata": {},
     "output_type": "execute_result"
    }
   ],
   "source": [
    "df[\"earliest_cr_line\"]"
   ]
  },
  {
   "cell_type": "code",
   "execution_count": 18,
   "id": "7d7a6d15",
   "metadata": {},
   "outputs": [
    {
     "data": {
      "text/plain": [
       "0         Jan-2016\n",
       "1         Sep-2013\n",
       "2         Jan-2016\n",
       "3         Jan-2015\n",
       "5         Sep-2015\n",
       "            ...   \n",
       "887351    Jan-2016\n",
       "887364    Jun-2015\n",
       "887366    Dec-2015\n",
       "887369    Nov-2015\n",
       "887371    Jan-2016\n",
       "Name: last_credit_pull_d, Length: 268530, dtype: object"
      ]
     },
     "execution_count": 18,
     "metadata": {},
     "output_type": "execute_result"
    }
   ],
   "source": [
    "df[\"last_credit_pull_d\"]"
   ]
  },
  {
   "cell_type": "code",
   "execution_count": 19,
   "id": "4b84c1b9",
   "metadata": {},
   "outputs": [
    {
     "data": {
      "text/plain": [
       "0         Jan-2015\n",
       "1         Apr-2013\n",
       "2         Jun-2014\n",
       "3         Jan-2015\n",
       "5         Jan-2015\n",
       "            ...   \n",
       "887351    Aug-2015\n",
       "887364    Jul-2015\n",
       "887366    Dec-2015\n",
       "887369    Jun-2015\n",
       "887371    Aug-2015\n",
       "Name: last_pymnt_d, Length: 268530, dtype: object"
      ]
     },
     "execution_count": 19,
     "metadata": {},
     "output_type": "execute_result"
    }
   ],
   "source": [
    "df[\"last_pymnt_d\"]"
   ]
  },
  {
   "cell_type": "markdown",
   "id": "cf9e987c",
   "metadata": {},
   "source": [
    "se eliminan todas estas columnas puesto que tienen más de 10 mil nulos y las otras 3 no son significativas y agregarian mucha complejidad al ser fechas"
   ]
  },
  {
   "cell_type": "code",
   "execution_count": 20,
   "id": "7904ef57",
   "metadata": {
    "vscode": {
     "languageId": "ruby"
    }
   },
   "outputs": [],
   "source": [
    "# Remove columns with many null values and date columns\n",
    "columns_to_remove = ['earliest_cr_line', 'last_credit_pull_d', 'last_pymnt_d', \"emp_length\", \"next_pymnt_d\", \"verification_status_joint\", \"desc\", \"emp_title\", \"title\"]\n",
    "df = df.drop(columns=columns_to_remove, errors='ignore')"
   ]
  },
  {
   "cell_type": "code",
   "execution_count": 21,
   "id": "02d0c6a8",
   "metadata": {
    "vscode": {
     "languageId": "ruby"
    }
   },
   "outputs": [],
   "source": [
    "df_varibales_categoricas = df.select_dtypes(include=['object']).astype(\"category\")"
   ]
  },
  {
   "cell_type": "code",
   "execution_count": 22,
   "id": "0cbc5e4c",
   "metadata": {
    "vscode": {
     "languageId": "ruby"
    }
   },
   "outputs": [
    {
     "data": {
      "text/html": [
       "<div>\n",
       "<style scoped>\n",
       "    .dataframe tbody tr th:only-of-type {\n",
       "        vertical-align: middle;\n",
       "    }\n",
       "\n",
       "    .dataframe tbody tr th {\n",
       "        vertical-align: top;\n",
       "    }\n",
       "\n",
       "    .dataframe thead th {\n",
       "        text-align: right;\n",
       "    }\n",
       "</style>\n",
       "<table border=\"1\" class=\"dataframe\">\n",
       "  <thead>\n",
       "    <tr style=\"text-align: right;\">\n",
       "      <th></th>\n",
       "      <th>term</th>\n",
       "      <th>grade</th>\n",
       "      <th>sub_grade</th>\n",
       "      <th>home_ownership</th>\n",
       "      <th>verification_status</th>\n",
       "      <th>issue_d</th>\n",
       "      <th>loan_status</th>\n",
       "      <th>pymnt_plan</th>\n",
       "      <th>url</th>\n",
       "      <th>purpose</th>\n",
       "      <th>zip_code</th>\n",
       "      <th>addr_state</th>\n",
       "      <th>initial_list_status</th>\n",
       "      <th>application_type</th>\n",
       "    </tr>\n",
       "  </thead>\n",
       "  <tbody>\n",
       "    <tr>\n",
       "      <th>0</th>\n",
       "      <td>36 months</td>\n",
       "      <td>B</td>\n",
       "      <td>B2</td>\n",
       "      <td>RENT</td>\n",
       "      <td>Verified</td>\n",
       "      <td>Dec-2011</td>\n",
       "      <td>Fully Paid</td>\n",
       "      <td>n</td>\n",
       "      <td>https://www.lendingclub.com/browse/loanDetail....</td>\n",
       "      <td>credit_card</td>\n",
       "      <td>860xx</td>\n",
       "      <td>AZ</td>\n",
       "      <td>f</td>\n",
       "      <td>INDIVIDUAL</td>\n",
       "    </tr>\n",
       "    <tr>\n",
       "      <th>1</th>\n",
       "      <td>60 months</td>\n",
       "      <td>C</td>\n",
       "      <td>C4</td>\n",
       "      <td>RENT</td>\n",
       "      <td>Source Verified</td>\n",
       "      <td>Dec-2011</td>\n",
       "      <td>Charged Off</td>\n",
       "      <td>n</td>\n",
       "      <td>https://www.lendingclub.com/browse/loanDetail....</td>\n",
       "      <td>car</td>\n",
       "      <td>309xx</td>\n",
       "      <td>GA</td>\n",
       "      <td>f</td>\n",
       "      <td>INDIVIDUAL</td>\n",
       "    </tr>\n",
       "    <tr>\n",
       "      <th>2</th>\n",
       "      <td>36 months</td>\n",
       "      <td>C</td>\n",
       "      <td>C5</td>\n",
       "      <td>RENT</td>\n",
       "      <td>Not Verified</td>\n",
       "      <td>Dec-2011</td>\n",
       "      <td>Fully Paid</td>\n",
       "      <td>n</td>\n",
       "      <td>https://www.lendingclub.com/browse/loanDetail....</td>\n",
       "      <td>small_business</td>\n",
       "      <td>606xx</td>\n",
       "      <td>IL</td>\n",
       "      <td>f</td>\n",
       "      <td>INDIVIDUAL</td>\n",
       "    </tr>\n",
       "    <tr>\n",
       "      <th>3</th>\n",
       "      <td>36 months</td>\n",
       "      <td>C</td>\n",
       "      <td>C1</td>\n",
       "      <td>RENT</td>\n",
       "      <td>Source Verified</td>\n",
       "      <td>Dec-2011</td>\n",
       "      <td>Fully Paid</td>\n",
       "      <td>n</td>\n",
       "      <td>https://www.lendingclub.com/browse/loanDetail....</td>\n",
       "      <td>other</td>\n",
       "      <td>917xx</td>\n",
       "      <td>CA</td>\n",
       "      <td>f</td>\n",
       "      <td>INDIVIDUAL</td>\n",
       "    </tr>\n",
       "    <tr>\n",
       "      <th>5</th>\n",
       "      <td>36 months</td>\n",
       "      <td>A</td>\n",
       "      <td>A4</td>\n",
       "      <td>RENT</td>\n",
       "      <td>Source Verified</td>\n",
       "      <td>Dec-2011</td>\n",
       "      <td>Fully Paid</td>\n",
       "      <td>n</td>\n",
       "      <td>https://www.lendingclub.com/browse/loanDetail....</td>\n",
       "      <td>wedding</td>\n",
       "      <td>852xx</td>\n",
       "      <td>AZ</td>\n",
       "      <td>f</td>\n",
       "      <td>INDIVIDUAL</td>\n",
       "    </tr>\n",
       "  </tbody>\n",
       "</table>\n",
       "</div>"
      ],
      "text/plain": [
       "         term grade sub_grade home_ownership verification_status   issue_d  \\\n",
       "0   36 months     B        B2           RENT            Verified  Dec-2011   \n",
       "1   60 months     C        C4           RENT     Source Verified  Dec-2011   \n",
       "2   36 months     C        C5           RENT        Not Verified  Dec-2011   \n",
       "3   36 months     C        C1           RENT     Source Verified  Dec-2011   \n",
       "5   36 months     A        A4           RENT     Source Verified  Dec-2011   \n",
       "\n",
       "   loan_status pymnt_plan                                                url  \\\n",
       "0   Fully Paid          n  https://www.lendingclub.com/browse/loanDetail....   \n",
       "1  Charged Off          n  https://www.lendingclub.com/browse/loanDetail....   \n",
       "2   Fully Paid          n  https://www.lendingclub.com/browse/loanDetail....   \n",
       "3   Fully Paid          n  https://www.lendingclub.com/browse/loanDetail....   \n",
       "5   Fully Paid          n  https://www.lendingclub.com/browse/loanDetail....   \n",
       "\n",
       "          purpose zip_code addr_state initial_list_status application_type  \n",
       "0     credit_card    860xx         AZ                   f       INDIVIDUAL  \n",
       "1             car    309xx         GA                   f       INDIVIDUAL  \n",
       "2  small_business    606xx         IL                   f       INDIVIDUAL  \n",
       "3           other    917xx         CA                   f       INDIVIDUAL  \n",
       "5         wedding    852xx         AZ                   f       INDIVIDUAL  "
      ]
     },
     "execution_count": 22,
     "metadata": {},
     "output_type": "execute_result"
    }
   ],
   "source": [
    "df_varibales_categoricas.head()"
   ]
  },
  {
   "cell_type": "code",
   "execution_count": 23,
   "id": "71bbd445",
   "metadata": {
    "vscode": {
     "languageId": "ruby"
    }
   },
   "outputs": [
    {
     "data": {
      "text/plain": [
       "application_type\n",
       "INDIVIDUAL    268527\n",
       "JOINT              3\n",
       "Name: count, dtype: int64"
      ]
     },
     "execution_count": 23,
     "metadata": {},
     "output_type": "execute_result"
    }
   ],
   "source": [
    "df_varibales_categoricas[\"application_type\"].value_counts()"
   ]
  },
  {
   "cell_type": "markdown",
   "id": "675a3a3f",
   "metadata": {},
   "source": [
    "se elimina porque practicamente todos los valores son iguales, por lo que no tendrá significancia para el modelo"
   ]
  },
  {
   "cell_type": "code",
   "execution_count": 24,
   "id": "68b88952",
   "metadata": {
    "vscode": {
     "languageId": "ruby"
    }
   },
   "outputs": [],
   "source": [
    "df = df.drop(columns=[\"application_type\"], errors='ignore')"
   ]
  },
  {
   "cell_type": "markdown",
   "id": "30f82b7f",
   "metadata": {},
   "source": [
    "A el resto de columnas categoricas se les aplica one hot encoder para incluirlas en el analisis de significancia de las variables para el modelo"
   ]
  },
  {
   "cell_type": "code",
   "execution_count": 25,
   "id": "e6ce1509",
   "metadata": {
    "vscode": {
     "languageId": "ruby"
    }
   },
   "outputs": [],
   "source": [
    "# Elimina columnas problemáticas\n",
    "cols_to_drop = ['id', 'member_id', 'url', 'desc', 'title', 'zip_code', 'loan_status', 'emp_title']\n",
    "df = df.drop(columns=cols_to_drop, errors='ignore')"
   ]
  },
  {
   "cell_type": "code",
   "execution_count": 26,
   "id": "04842287",
   "metadata": {},
   "outputs": [],
   "source": [
    "# Get categorical columns from df (excluding certain columns we don't want to encode)\n",
    "df_varibales_categoricas = df.select_dtypes(include=['object'])\n",
    "categorical_columns = df_varibales_categoricas.columns\n",
    "categorical_columns = [col for col in categorical_columns]\n",
    "\n",
    "# Apply one-hot encoding\n",
    "df_encoded = pd.get_dummies(df, columns=categorical_columns, drop_first=True)"
   ]
  },
  {
   "cell_type": "code",
   "execution_count": 27,
   "id": "567fb6e2",
   "metadata": {},
   "outputs": [
    {
     "data": {
      "text/html": [
       "<div>\n",
       "<style scoped>\n",
       "    .dataframe tbody tr th:only-of-type {\n",
       "        vertical-align: middle;\n",
       "    }\n",
       "\n",
       "    .dataframe tbody tr th {\n",
       "        vertical-align: top;\n",
       "    }\n",
       "\n",
       "    .dataframe thead th {\n",
       "        text-align: right;\n",
       "    }\n",
       "</style>\n",
       "<table border=\"1\" class=\"dataframe\">\n",
       "  <thead>\n",
       "    <tr style=\"text-align: right;\">\n",
       "      <th></th>\n",
       "      <th>term</th>\n",
       "      <th>grade</th>\n",
       "      <th>sub_grade</th>\n",
       "      <th>home_ownership</th>\n",
       "      <th>verification_status</th>\n",
       "      <th>issue_d</th>\n",
       "      <th>pymnt_plan</th>\n",
       "      <th>purpose</th>\n",
       "      <th>addr_state</th>\n",
       "      <th>initial_list_status</th>\n",
       "    </tr>\n",
       "  </thead>\n",
       "  <tbody>\n",
       "    <tr>\n",
       "      <th>0</th>\n",
       "      <td>36 months</td>\n",
       "      <td>B</td>\n",
       "      <td>B2</td>\n",
       "      <td>RENT</td>\n",
       "      <td>Verified</td>\n",
       "      <td>Dec-2011</td>\n",
       "      <td>n</td>\n",
       "      <td>credit_card</td>\n",
       "      <td>AZ</td>\n",
       "      <td>f</td>\n",
       "    </tr>\n",
       "    <tr>\n",
       "      <th>1</th>\n",
       "      <td>60 months</td>\n",
       "      <td>C</td>\n",
       "      <td>C4</td>\n",
       "      <td>RENT</td>\n",
       "      <td>Source Verified</td>\n",
       "      <td>Dec-2011</td>\n",
       "      <td>n</td>\n",
       "      <td>car</td>\n",
       "      <td>GA</td>\n",
       "      <td>f</td>\n",
       "    </tr>\n",
       "    <tr>\n",
       "      <th>2</th>\n",
       "      <td>36 months</td>\n",
       "      <td>C</td>\n",
       "      <td>C5</td>\n",
       "      <td>RENT</td>\n",
       "      <td>Not Verified</td>\n",
       "      <td>Dec-2011</td>\n",
       "      <td>n</td>\n",
       "      <td>small_business</td>\n",
       "      <td>IL</td>\n",
       "      <td>f</td>\n",
       "    </tr>\n",
       "    <tr>\n",
       "      <th>3</th>\n",
       "      <td>36 months</td>\n",
       "      <td>C</td>\n",
       "      <td>C1</td>\n",
       "      <td>RENT</td>\n",
       "      <td>Source Verified</td>\n",
       "      <td>Dec-2011</td>\n",
       "      <td>n</td>\n",
       "      <td>other</td>\n",
       "      <td>CA</td>\n",
       "      <td>f</td>\n",
       "    </tr>\n",
       "    <tr>\n",
       "      <th>5</th>\n",
       "      <td>36 months</td>\n",
       "      <td>A</td>\n",
       "      <td>A4</td>\n",
       "      <td>RENT</td>\n",
       "      <td>Source Verified</td>\n",
       "      <td>Dec-2011</td>\n",
       "      <td>n</td>\n",
       "      <td>wedding</td>\n",
       "      <td>AZ</td>\n",
       "      <td>f</td>\n",
       "    </tr>\n",
       "    <tr>\n",
       "      <th>...</th>\n",
       "      <td>...</td>\n",
       "      <td>...</td>\n",
       "      <td>...</td>\n",
       "      <td>...</td>\n",
       "      <td>...</td>\n",
       "      <td>...</td>\n",
       "      <td>...</td>\n",
       "      <td>...</td>\n",
       "      <td>...</td>\n",
       "      <td>...</td>\n",
       "    </tr>\n",
       "    <tr>\n",
       "      <th>887351</th>\n",
       "      <td>36 months</td>\n",
       "      <td>D</td>\n",
       "      <td>D2</td>\n",
       "      <td>MORTGAGE</td>\n",
       "      <td>Verified</td>\n",
       "      <td>Jan-2015</td>\n",
       "      <td>n</td>\n",
       "      <td>medical</td>\n",
       "      <td>CO</td>\n",
       "      <td>f</td>\n",
       "    </tr>\n",
       "    <tr>\n",
       "      <th>887364</th>\n",
       "      <td>36 months</td>\n",
       "      <td>A</td>\n",
       "      <td>A1</td>\n",
       "      <td>RENT</td>\n",
       "      <td>Not Verified</td>\n",
       "      <td>Jan-2015</td>\n",
       "      <td>n</td>\n",
       "      <td>debt_consolidation</td>\n",
       "      <td>FL</td>\n",
       "      <td>w</td>\n",
       "    </tr>\n",
       "    <tr>\n",
       "      <th>887366</th>\n",
       "      <td>36 months</td>\n",
       "      <td>D</td>\n",
       "      <td>D3</td>\n",
       "      <td>RENT</td>\n",
       "      <td>Source Verified</td>\n",
       "      <td>Jan-2015</td>\n",
       "      <td>n</td>\n",
       "      <td>debt_consolidation</td>\n",
       "      <td>FL</td>\n",
       "      <td>f</td>\n",
       "    </tr>\n",
       "    <tr>\n",
       "      <th>887369</th>\n",
       "      <td>36 months</td>\n",
       "      <td>B</td>\n",
       "      <td>B1</td>\n",
       "      <td>MORTGAGE</td>\n",
       "      <td>Verified</td>\n",
       "      <td>Jan-2015</td>\n",
       "      <td>n</td>\n",
       "      <td>car</td>\n",
       "      <td>CA</td>\n",
       "      <td>f</td>\n",
       "    </tr>\n",
       "    <tr>\n",
       "      <th>887371</th>\n",
       "      <td>36 months</td>\n",
       "      <td>E</td>\n",
       "      <td>E2</td>\n",
       "      <td>OWN</td>\n",
       "      <td>Verified</td>\n",
       "      <td>Jan-2015</td>\n",
       "      <td>n</td>\n",
       "      <td>debt_consolidation</td>\n",
       "      <td>OH</td>\n",
       "      <td>f</td>\n",
       "    </tr>\n",
       "  </tbody>\n",
       "</table>\n",
       "<p>268530 rows × 10 columns</p>\n",
       "</div>"
      ],
      "text/plain": [
       "              term grade sub_grade home_ownership verification_status  \\\n",
       "0        36 months     B        B2           RENT            Verified   \n",
       "1        60 months     C        C4           RENT     Source Verified   \n",
       "2        36 months     C        C5           RENT        Not Verified   \n",
       "3        36 months     C        C1           RENT     Source Verified   \n",
       "5        36 months     A        A4           RENT     Source Verified   \n",
       "...            ...   ...       ...            ...                 ...   \n",
       "887351   36 months     D        D2       MORTGAGE            Verified   \n",
       "887364   36 months     A        A1           RENT        Not Verified   \n",
       "887366   36 months     D        D3           RENT     Source Verified   \n",
       "887369   36 months     B        B1       MORTGAGE            Verified   \n",
       "887371   36 months     E        E2            OWN            Verified   \n",
       "\n",
       "         issue_d pymnt_plan             purpose addr_state initial_list_status  \n",
       "0       Dec-2011          n         credit_card         AZ                   f  \n",
       "1       Dec-2011          n                 car         GA                   f  \n",
       "2       Dec-2011          n      small_business         IL                   f  \n",
       "3       Dec-2011          n               other         CA                   f  \n",
       "5       Dec-2011          n             wedding         AZ                   f  \n",
       "...          ...        ...                 ...        ...                 ...  \n",
       "887351  Jan-2015          n             medical         CO                   f  \n",
       "887364  Jan-2015          n  debt_consolidation         FL                   w  \n",
       "887366  Jan-2015          n  debt_consolidation         FL                   f  \n",
       "887369  Jan-2015          n                 car         CA                   f  \n",
       "887371  Jan-2015          n  debt_consolidation         OH                   f  \n",
       "\n",
       "[268530 rows x 10 columns]"
      ]
     },
     "execution_count": 27,
     "metadata": {},
     "output_type": "execute_result"
    }
   ],
   "source": [
    "df_varibales_categoricas "
   ]
  },
  {
   "cell_type": "code",
   "execution_count": 28,
   "id": "62b07f8a",
   "metadata": {},
   "outputs": [
    {
     "data": {
      "text/html": [
       "<div>\n",
       "<style scoped>\n",
       "    .dataframe tbody tr th:only-of-type {\n",
       "        vertical-align: middle;\n",
       "    }\n",
       "\n",
       "    .dataframe tbody tr th {\n",
       "        vertical-align: top;\n",
       "    }\n",
       "\n",
       "    .dataframe thead th {\n",
       "        text-align: right;\n",
       "    }\n",
       "</style>\n",
       "<table border=\"1\" class=\"dataframe\">\n",
       "  <thead>\n",
       "    <tr style=\"text-align: right;\">\n",
       "      <th></th>\n",
       "      <th>loan_amnt</th>\n",
       "      <th>funded_amnt</th>\n",
       "      <th>funded_amnt_inv</th>\n",
       "      <th>int_rate</th>\n",
       "      <th>installment</th>\n",
       "      <th>annual_inc</th>\n",
       "      <th>dti</th>\n",
       "      <th>delinq_2yrs</th>\n",
       "      <th>inq_last_6mths</th>\n",
       "      <th>mths_since_last_delinq</th>\n",
       "      <th>...</th>\n",
       "      <th>addr_state_TN</th>\n",
       "      <th>addr_state_TX</th>\n",
       "      <th>addr_state_UT</th>\n",
       "      <th>addr_state_VA</th>\n",
       "      <th>addr_state_VT</th>\n",
       "      <th>addr_state_WA</th>\n",
       "      <th>addr_state_WI</th>\n",
       "      <th>addr_state_WV</th>\n",
       "      <th>addr_state_WY</th>\n",
       "      <th>initial_list_status_w</th>\n",
       "    </tr>\n",
       "  </thead>\n",
       "  <tbody>\n",
       "    <tr>\n",
       "      <th>0</th>\n",
       "      <td>5000.0</td>\n",
       "      <td>5000.0</td>\n",
       "      <td>4975.0</td>\n",
       "      <td>10.65</td>\n",
       "      <td>162.87</td>\n",
       "      <td>24000.0</td>\n",
       "      <td>27.65</td>\n",
       "      <td>0.0</td>\n",
       "      <td>1.0</td>\n",
       "      <td>NaN</td>\n",
       "      <td>...</td>\n",
       "      <td>False</td>\n",
       "      <td>False</td>\n",
       "      <td>False</td>\n",
       "      <td>False</td>\n",
       "      <td>False</td>\n",
       "      <td>False</td>\n",
       "      <td>False</td>\n",
       "      <td>False</td>\n",
       "      <td>False</td>\n",
       "      <td>False</td>\n",
       "    </tr>\n",
       "    <tr>\n",
       "      <th>1</th>\n",
       "      <td>2500.0</td>\n",
       "      <td>2500.0</td>\n",
       "      <td>2500.0</td>\n",
       "      <td>15.27</td>\n",
       "      <td>59.83</td>\n",
       "      <td>30000.0</td>\n",
       "      <td>1.00</td>\n",
       "      <td>0.0</td>\n",
       "      <td>5.0</td>\n",
       "      <td>NaN</td>\n",
       "      <td>...</td>\n",
       "      <td>False</td>\n",
       "      <td>False</td>\n",
       "      <td>False</td>\n",
       "      <td>False</td>\n",
       "      <td>False</td>\n",
       "      <td>False</td>\n",
       "      <td>False</td>\n",
       "      <td>False</td>\n",
       "      <td>False</td>\n",
       "      <td>False</td>\n",
       "    </tr>\n",
       "    <tr>\n",
       "      <th>2</th>\n",
       "      <td>2400.0</td>\n",
       "      <td>2400.0</td>\n",
       "      <td>2400.0</td>\n",
       "      <td>15.96</td>\n",
       "      <td>84.33</td>\n",
       "      <td>12252.0</td>\n",
       "      <td>8.72</td>\n",
       "      <td>0.0</td>\n",
       "      <td>2.0</td>\n",
       "      <td>NaN</td>\n",
       "      <td>...</td>\n",
       "      <td>False</td>\n",
       "      <td>False</td>\n",
       "      <td>False</td>\n",
       "      <td>False</td>\n",
       "      <td>False</td>\n",
       "      <td>False</td>\n",
       "      <td>False</td>\n",
       "      <td>False</td>\n",
       "      <td>False</td>\n",
       "      <td>False</td>\n",
       "    </tr>\n",
       "    <tr>\n",
       "      <th>3</th>\n",
       "      <td>10000.0</td>\n",
       "      <td>10000.0</td>\n",
       "      <td>10000.0</td>\n",
       "      <td>13.49</td>\n",
       "      <td>339.31</td>\n",
       "      <td>49200.0</td>\n",
       "      <td>20.00</td>\n",
       "      <td>0.0</td>\n",
       "      <td>1.0</td>\n",
       "      <td>35.0</td>\n",
       "      <td>...</td>\n",
       "      <td>False</td>\n",
       "      <td>False</td>\n",
       "      <td>False</td>\n",
       "      <td>False</td>\n",
       "      <td>False</td>\n",
       "      <td>False</td>\n",
       "      <td>False</td>\n",
       "      <td>False</td>\n",
       "      <td>False</td>\n",
       "      <td>False</td>\n",
       "    </tr>\n",
       "    <tr>\n",
       "      <th>5</th>\n",
       "      <td>5000.0</td>\n",
       "      <td>5000.0</td>\n",
       "      <td>5000.0</td>\n",
       "      <td>7.90</td>\n",
       "      <td>156.46</td>\n",
       "      <td>36000.0</td>\n",
       "      <td>11.20</td>\n",
       "      <td>0.0</td>\n",
       "      <td>3.0</td>\n",
       "      <td>NaN</td>\n",
       "      <td>...</td>\n",
       "      <td>False</td>\n",
       "      <td>False</td>\n",
       "      <td>False</td>\n",
       "      <td>False</td>\n",
       "      <td>False</td>\n",
       "      <td>False</td>\n",
       "      <td>False</td>\n",
       "      <td>False</td>\n",
       "      <td>False</td>\n",
       "      <td>False</td>\n",
       "    </tr>\n",
       "  </tbody>\n",
       "</table>\n",
       "<p>5 rows × 265 columns</p>\n",
       "</div>"
      ],
      "text/plain": [
       "   loan_amnt  funded_amnt  funded_amnt_inv  int_rate  installment  annual_inc  \\\n",
       "0     5000.0       5000.0           4975.0     10.65       162.87     24000.0   \n",
       "1     2500.0       2500.0           2500.0     15.27        59.83     30000.0   \n",
       "2     2400.0       2400.0           2400.0     15.96        84.33     12252.0   \n",
       "3    10000.0      10000.0          10000.0     13.49       339.31     49200.0   \n",
       "5     5000.0       5000.0           5000.0      7.90       156.46     36000.0   \n",
       "\n",
       "     dti  delinq_2yrs  inq_last_6mths  mths_since_last_delinq  ...  \\\n",
       "0  27.65          0.0             1.0                     NaN  ...   \n",
       "1   1.00          0.0             5.0                     NaN  ...   \n",
       "2   8.72          0.0             2.0                     NaN  ...   \n",
       "3  20.00          0.0             1.0                    35.0  ...   \n",
       "5  11.20          0.0             3.0                     NaN  ...   \n",
       "\n",
       "   addr_state_TN  addr_state_TX  addr_state_UT  addr_state_VA  addr_state_VT  \\\n",
       "0          False          False          False          False          False   \n",
       "1          False          False          False          False          False   \n",
       "2          False          False          False          False          False   \n",
       "3          False          False          False          False          False   \n",
       "5          False          False          False          False          False   \n",
       "\n",
       "   addr_state_WA  addr_state_WI  addr_state_WV  addr_state_WY  \\\n",
       "0          False          False          False          False   \n",
       "1          False          False          False          False   \n",
       "2          False          False          False          False   \n",
       "3          False          False          False          False   \n",
       "5          False          False          False          False   \n",
       "\n",
       "   initial_list_status_w  \n",
       "0                  False  \n",
       "1                  False  \n",
       "2                  False  \n",
       "3                  False  \n",
       "5                  False  \n",
       "\n",
       "[5 rows x 265 columns]"
      ]
     },
     "execution_count": 28,
     "metadata": {},
     "output_type": "execute_result"
    }
   ],
   "source": [
    "df_encoded.head()"
   ]
  },
  {
   "cell_type": "markdown",
   "id": "c7b46b7a",
   "metadata": {},
   "source": [
    "## Imputacion de nulos"
   ]
  },
  {
   "cell_type": "code",
   "execution_count": 29,
   "id": "abebb72e",
   "metadata": {
    "vscode": {
     "languageId": "ruby"
    }
   },
   "outputs": [],
   "source": [
    "# Imputa nulos\n",
    "df = df.fillna(df.median(numeric_only=True))"
   ]
  },
  {
   "cell_type": "code",
   "execution_count": 30,
   "id": "5fd4e9ed",
   "metadata": {
    "vscode": {
     "languageId": "ruby"
    }
   },
   "outputs": [],
   "source": [
    "# Imputa nulos\n",
    "df_encoded = df_encoded.fillna(df_encoded.median(numeric_only=True))"
   ]
  },
  {
   "cell_type": "markdown",
   "id": "c3ade8a4",
   "metadata": {},
   "source": [
    "# Analisis de las variables más significativas"
   ]
  },
  {
   "cell_type": "code",
   "execution_count": 34,
   "id": "46aa58c9",
   "metadata": {
    "vscode": {
     "languageId": "ruby"
    }
   },
   "outputs": [],
   "source": [
    "X = df_encoded.drop(columns=['target'], errors='ignore')\n",
    "y = df['target']"
   ]
  },
  {
   "cell_type": "markdown",
   "id": "2bda0877",
   "metadata": {},
   "source": [
    "## Metodo kbest"
   ]
  },
  {
   "cell_type": "code",
   "execution_count": 35,
   "id": "f4533939",
   "metadata": {},
   "outputs": [
    {
     "name": "stdout",
     "output_type": "stream",
     "text": [
      "Importancia de características:\n",
      "              Feature         Score\n",
      "20    total_rec_prncp  83367.562104\n",
      "25    last_pymnt_amnt  54935.222040\n",
      "23         recoveries  48290.312606\n",
      "18        total_pymnt  46675.895755\n",
      "19    total_pymnt_inv  45848.611281\n",
      "..                ...           ...\n",
      "161  issue_d_Mar-2013      0.011983\n",
      "224     addr_state_IA      0.010454\n",
      "164  issue_d_May-2008      0.001830\n",
      "235     addr_state_MN      0.001272\n",
      "28        policy_code           NaN\n",
      "\n",
      "[264 rows x 2 columns]\n"
     ]
    },
    {
     "name": "stderr",
     "output_type": "stream",
     "text": [
      "c:\\Users\\User\\AppData\\Local\\Programs\\Python\\Python310\\lib\\site-packages\\sklearn\\feature_selection\\_univariate_selection.py:111: UserWarning: Features [28] are constant.\n",
      "  warnings.warn(\"Features %s are constant.\" % constant_features_idx, UserWarning)\n",
      "c:\\Users\\User\\AppData\\Local\\Programs\\Python\\Python310\\lib\\site-packages\\sklearn\\feature_selection\\_univariate_selection.py:112: RuntimeWarning: invalid value encountered in divide\n",
      "  f = msb / msw\n"
     ]
    }
   ],
   "source": [
    "# SelectKBest\n",
    "selector = SelectKBest(f_classif, k=7)\n",
    "selector.fit(X, y)\n",
    "\n",
    "# Obtener scores\n",
    "scores = pd.DataFrame({\n",
    "    'Feature': X.columns,\n",
    "    'Score': selector.scores_\n",
    "})\n",
    "scores = scores.sort_values('Score', ascending=False)\n",
    "\n",
    "print(\"Importancia de características:\")\n",
    "print(scores)"
   ]
  },
  {
   "cell_type": "code",
   "execution_count": 37,
   "id": "382f6ed6",
   "metadata": {},
   "outputs": [
    {
     "data": {
      "text/html": [
       "<div>\n",
       "<style scoped>\n",
       "    .dataframe tbody tr th:only-of-type {\n",
       "        vertical-align: middle;\n",
       "    }\n",
       "\n",
       "    .dataframe tbody tr th {\n",
       "        vertical-align: top;\n",
       "    }\n",
       "\n",
       "    .dataframe thead th {\n",
       "        text-align: right;\n",
       "    }\n",
       "</style>\n",
       "<table border=\"1\" class=\"dataframe\">\n",
       "  <thead>\n",
       "    <tr style=\"text-align: right;\">\n",
       "      <th></th>\n",
       "      <th>Feature</th>\n",
       "      <th>Score</th>\n",
       "    </tr>\n",
       "  </thead>\n",
       "  <tbody>\n",
       "    <tr>\n",
       "      <th>20</th>\n",
       "      <td>total_rec_prncp</td>\n",
       "      <td>83367.562104</td>\n",
       "    </tr>\n",
       "    <tr>\n",
       "      <th>25</th>\n",
       "      <td>last_pymnt_amnt</td>\n",
       "      <td>54935.222040</td>\n",
       "    </tr>\n",
       "    <tr>\n",
       "      <th>23</th>\n",
       "      <td>recoveries</td>\n",
       "      <td>48290.312606</td>\n",
       "    </tr>\n",
       "    <tr>\n",
       "      <th>18</th>\n",
       "      <td>total_pymnt</td>\n",
       "      <td>46675.895755</td>\n",
       "    </tr>\n",
       "    <tr>\n",
       "      <th>19</th>\n",
       "      <td>total_pymnt_inv</td>\n",
       "      <td>45848.611281</td>\n",
       "    </tr>\n",
       "    <tr>\n",
       "      <th>16</th>\n",
       "      <td>out_prncp</td>\n",
       "      <td>37543.371479</td>\n",
       "    </tr>\n",
       "    <tr>\n",
       "      <th>17</th>\n",
       "      <td>out_prncp_inv</td>\n",
       "      <td>37542.785395</td>\n",
       "    </tr>\n",
       "    <tr>\n",
       "      <th>24</th>\n",
       "      <td>collection_recovery_fee</td>\n",
       "      <td>20652.987243</td>\n",
       "    </tr>\n",
       "    <tr>\n",
       "      <th>3</th>\n",
       "      <td>int_rate</td>\n",
       "      <td>18640.769072</td>\n",
       "    </tr>\n",
       "    <tr>\n",
       "      <th>49</th>\n",
       "      <td>term_ 60 months</td>\n",
       "      <td>7765.671379</td>\n",
       "    </tr>\n",
       "  </tbody>\n",
       "</table>\n",
       "</div>"
      ],
      "text/plain": [
       "                    Feature         Score\n",
       "20          total_rec_prncp  83367.562104\n",
       "25          last_pymnt_amnt  54935.222040\n",
       "23               recoveries  48290.312606\n",
       "18              total_pymnt  46675.895755\n",
       "19          total_pymnt_inv  45848.611281\n",
       "16                out_prncp  37543.371479\n",
       "17            out_prncp_inv  37542.785395\n",
       "24  collection_recovery_fee  20652.987243\n",
       "3                  int_rate  18640.769072\n",
       "49          term_ 60 months   7765.671379"
      ]
     },
     "execution_count": 37,
     "metadata": {},
     "output_type": "execute_result"
    }
   ],
   "source": [
    "scores.head(10)"
   ]
  },
  {
   "cell_type": "code",
   "execution_count": 38,
   "id": "61e916c9",
   "metadata": {},
   "outputs": [
    {
     "data": {
      "text/html": [
       "<div>\n",
       "<style scoped>\n",
       "    .dataframe tbody tr th:only-of-type {\n",
       "        vertical-align: middle;\n",
       "    }\n",
       "\n",
       "    .dataframe tbody tr th {\n",
       "        vertical-align: top;\n",
       "    }\n",
       "\n",
       "    .dataframe thead th {\n",
       "        text-align: right;\n",
       "    }\n",
       "</style>\n",
       "<table border=\"1\" class=\"dataframe\">\n",
       "  <thead>\n",
       "    <tr style=\"text-align: right;\">\n",
       "      <th></th>\n",
       "      <th>out_prncp</th>\n",
       "      <th>out_prncp_inv</th>\n",
       "      <th>total_pymnt</th>\n",
       "      <th>total_pymnt_inv</th>\n",
       "      <th>total_rec_prncp</th>\n",
       "      <th>recoveries</th>\n",
       "      <th>last_pymnt_amnt</th>\n",
       "    </tr>\n",
       "  </thead>\n",
       "  <tbody>\n",
       "    <tr>\n",
       "      <th>0</th>\n",
       "      <td>0.0</td>\n",
       "      <td>0.0</td>\n",
       "      <td>5861.071414</td>\n",
       "      <td>5831.78</td>\n",
       "      <td>5000.00</td>\n",
       "      <td>0.00</td>\n",
       "      <td>171.62</td>\n",
       "    </tr>\n",
       "    <tr>\n",
       "      <th>1</th>\n",
       "      <td>0.0</td>\n",
       "      <td>0.0</td>\n",
       "      <td>1008.710000</td>\n",
       "      <td>1008.71</td>\n",
       "      <td>456.46</td>\n",
       "      <td>117.08</td>\n",
       "      <td>119.66</td>\n",
       "    </tr>\n",
       "    <tr>\n",
       "      <th>2</th>\n",
       "      <td>0.0</td>\n",
       "      <td>0.0</td>\n",
       "      <td>3003.653644</td>\n",
       "      <td>3003.65</td>\n",
       "      <td>2400.00</td>\n",
       "      <td>0.00</td>\n",
       "      <td>649.91</td>\n",
       "    </tr>\n",
       "    <tr>\n",
       "      <th>3</th>\n",
       "      <td>0.0</td>\n",
       "      <td>0.0</td>\n",
       "      <td>12226.302212</td>\n",
       "      <td>12226.30</td>\n",
       "      <td>10000.00</td>\n",
       "      <td>0.00</td>\n",
       "      <td>357.48</td>\n",
       "    </tr>\n",
       "    <tr>\n",
       "      <th>5</th>\n",
       "      <td>0.0</td>\n",
       "      <td>0.0</td>\n",
       "      <td>5631.377753</td>\n",
       "      <td>5631.38</td>\n",
       "      <td>5000.00</td>\n",
       "      <td>0.00</td>\n",
       "      <td>161.03</td>\n",
       "    </tr>\n",
       "  </tbody>\n",
       "</table>\n",
       "</div>"
      ],
      "text/plain": [
       "   out_prncp  out_prncp_inv   total_pymnt  total_pymnt_inv  total_rec_prncp  \\\n",
       "0        0.0            0.0   5861.071414          5831.78          5000.00   \n",
       "1        0.0            0.0   1008.710000          1008.71           456.46   \n",
       "2        0.0            0.0   3003.653644          3003.65          2400.00   \n",
       "3        0.0            0.0  12226.302212         12226.30         10000.00   \n",
       "5        0.0            0.0   5631.377753          5631.38          5000.00   \n",
       "\n",
       "   recoveries  last_pymnt_amnt  \n",
       "0        0.00           171.62  \n",
       "1      117.08           119.66  \n",
       "2        0.00           649.91  \n",
       "3        0.00           357.48  \n",
       "5        0.00           161.03  "
      ]
     },
     "execution_count": 38,
     "metadata": {},
     "output_type": "execute_result"
    }
   ],
   "source": [
    "columnas_seleccionadas = selector.get_support()\n",
    "nombres_columnas = X.columns[columnas_seleccionadas]\n",
    "X = X[nombres_columnas]\n",
    "X.head()"
   ]
  },
  {
   "cell_type": "code",
   "execution_count": 39,
   "id": "f0ba924a",
   "metadata": {},
   "outputs": [
    {
     "name": "stdout",
     "output_type": "stream",
     "text": [
      "        out_prncp  out_prncp_inv  total_pymnt  total_pymnt_inv  \\\n",
      "target                                                           \n",
      "0.0        209711         209711       209711           209711   \n",
      "1.0         58819          58819        58819            58819   \n",
      "\n",
      "        total_rec_prncp  recoveries  last_pymnt_amnt  \n",
      "target                                                \n",
      "0.0              209711      209711           209711  \n",
      "1.0               58819       58819            58819  \n"
     ]
    }
   ],
   "source": [
    "print(df_encoded.groupby('target')[nombres_columnas].count())"
   ]
  },
  {
   "cell_type": "markdown",
   "id": "ed5a14ee",
   "metadata": {},
   "source": [
    "lo recomendado es quedarnos con las 7 primeras variables, puesto que a partir de la octava cae considereablemente el score (significancia de la variable), por lo cual, a partir de esta no serian muy explicativas."
   ]
  },
  {
   "cell_type": "markdown",
   "id": "2c01924d",
   "metadata": {},
   "source": [
    "## Entrenamiento de modelos"
   ]
  },
  {
   "cell_type": "code",
   "execution_count": 54,
   "id": "02169e0a",
   "metadata": {},
   "outputs": [
    {
     "name": "stderr",
     "output_type": "stream",
     "text": [
      "c:\\Users\\User\\AppData\\Local\\Programs\\Python\\Python310\\lib\\site-packages\\sklearn\\feature_selection\\_univariate_selection.py:111: UserWarning: Features [28] are constant.\n",
      "  warnings.warn(\"Features %s are constant.\" % constant_features_idx, UserWarning)\n",
      "c:\\Users\\User\\AppData\\Local\\Programs\\Python\\Python310\\lib\\site-packages\\sklearn\\feature_selection\\_univariate_selection.py:112: RuntimeWarning: invalid value encountered in divide\n",
      "  f = msb / msw\n"
     ]
    },
    {
     "name": "stdout",
     "output_type": "stream",
     "text": [
      "Variables seleccionadas: Index(['out_prncp', 'out_prncp_inv', 'total_pymnt', 'total_pymnt_inv',\n",
      "       'total_rec_prncp', 'recoveries', 'last_pymnt_amnt'],\n",
      "      dtype='object')\n"
     ]
    },
    {
     "name": "stderr",
     "output_type": "stream",
     "text": [
      "100%|===================| 107375/107412 [26:41<00:00]        "
     ]
    },
    {
     "data": {
      "text/plain": [
       "<Figure size 640x480 with 0 Axes>"
      ]
     },
     "metadata": {},
     "output_type": "display_data"
    },
    {
     "data": {
      "image/png": "[encoded data removed]",
      "text/plain": [
       "<Figure size 1150x660 with 1 Axes>"
      ]
     },
     "metadata": {},
     "output_type": "display_data"
    }
   ],
   "source": [
    "from sklearn.feature_selection import SelectKBest, f_classif\n",
    "from sklearn.model_selection import train_test_split\n",
    "from sklearn.ensemble import RandomForestClassifier\n",
    "import shap\n",
    "\n",
    "# Usa el DataFrame ya codificado y sin nulos\n",
    "X = df_encoded.drop(columns=['target'], errors='ignore')\n",
    "y = df['target']\n",
    "\n",
    "# Selección de variables (elige el número que prefieras, aquí 7)\n",
    "k = 7\n",
    "selector = SelectKBest(score_func=f_classif, k=k)\n",
    "X_new = selector.fit_transform(X, y)\n",
    "mask = selector.get_support()\n",
    "selected_features = X.columns[mask]\n",
    "print(\"Variables seleccionadas:\", selected_features)\n",
    "\n",
    "# Entrenamiento con las variables seleccionadas\n",
    "X_selected = X[selected_features]\n",
    "X_train, X_test, y_train, y_test = train_test_split(X_selected, y, test_size=0.2, random_state=42)\n",
    "model = RandomForestClassifier()\n",
    "model.fit(X_train, y_train)\n",
    "\n",
    "# Asegúrate de que las columnas y el orden coincidan\n",
    "X_test = X_test[X_train.columns]\n",
    "\n",
    "# Gráfica SHAP (con verificación de aditividad desactivada para evitar errores)\n",
    "explainer = shap.Explainer(model, X_train)\n",
    "shap_values = explainer(X_test, check_additivity=False)\n",
    "shap.summary_plot(shap_values, X_test, feature_names=selected_features)"
   ]
  },
  {
   "cell_type": "code",
   "execution_count": null,
   "id": "fd8e49a9",
   "metadata": {},
   "outputs": [],
   "source": [
    "from sklearn.model_selection import train_test_split\n",
    "from sklearn.linear_model import LogisticRegression\n",
    "from sklearn.metrics import roc_auc_score, classification_report, confusion_matrix\n",
    "\n",
    "param_grid = [\n",
    "    {\n",
    "        'penalty': ['l1'], \n",
    "        'solver': ['liblinear', 'saga'],\n",
    "        'C': [0.01, 0.1, 1, 10, 100]\n",
    "    },\n",
    "    {\n",
    "        'penalty': ['l2'],\n",
    "        'solver': ['lbfgs', 'liblinear', 'saga'],\n",
    "        'C': [0.01, 0.1, 1, 10, 100]\n",
    "    }\n",
    "]\n",
    "\n",
    "log_reg = LogisticRegression(max_iter=1000, random_state=42)\n",
    "\n",
    "grid_search = GridSearchCV(\n",
    "    estimator=log_reg, \n",
    "    param_grid=param_grid, \n",
    "    cv=5, \n",
    "    scoring='roc_auc', \n",
    "    n_jobs=-1\n",
    ")\n",
    "\n",
    "grid_search.fit(X_train, y_train)"
   ]
  },
  {
   "cell_type": "code",
   "execution_count": null,
   "id": "dfc456f3",
   "metadata": {},
   "outputs": [],
   "source": [
    "model = grid_search.best_estimator_"
   ]
  },
  {
   "cell_type": "code",
   "execution_count": null,
   "id": "70c1e145",
   "metadata": {},
   "outputs": [],
   "source": [
    "y_pred_prob = model.predict_proba(X_test)[:,1]\n",
    "y_pred = model.predict(X_test)\n",
    "\n",
    "print(\"AUC:\", roc_auc_score(y_test, y_pred_prob))\n",
    "print(classification_report(y_test, y_pred))\n",
    "print(confusion_matrix(y_test, y_pred))"
   ]
  }
 ],
 "metadata": {
  "kernelspec": {
   "display_name": "Python 3",
   "language": "python",
   "name": "python3"
  },
  "language_info": {
   "codemirror_mode": {
    "name": "ipython",
    "version": 3
   },
   "file_extension": ".py",
   "mimetype": "text/x-python",
   "name": "python",
   "nbconvert_exporter": "python",
   "pygments_lexer": "ipython3",
   "version": "3.10.6"
  }
 },
 "nbformat": 4,
 "nbformat_minor": 5
}
